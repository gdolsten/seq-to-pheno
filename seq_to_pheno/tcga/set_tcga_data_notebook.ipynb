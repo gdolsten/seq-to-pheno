{
 "cells": [
  {
   "cell_type": "code",
   "execution_count": 27,
   "metadata": {},
   "outputs": [],
   "source": [
    "import os\n",
    "import re\n",
    "import shutil"
   ]
  },
  {
   "cell_type": "code",
   "execution_count": 2,
   "metadata": {},
   "outputs": [],
   "source": [
    "all_annotated_ids_fn = 'data/variants/all_annotated_ids.txt'\n",
    "if not os.path.exists(all_annotated_ids_fn):\n",
    "  print(\"annotated_ids not found\")\n",
    "  \n",
    "indel_dir = 'data/variants/indel/'\n",
    "snv_dir = 'data/variants/snv_mnv/'\n",
    "contigs = 'contigs.txt'\n",
    "vcf_dir = 'data/variants/vcf/'"
   ]
  },
  {
   "cell_type": "code",
   "execution_count": 3,
   "metadata": {},
   "outputs": [
    {
     "data": {
      "text/plain": [
       "862"
      ]
     },
     "execution_count": 3,
     "metadata": {},
     "output_type": "execute_result"
    }
   ],
   "source": [
    "all_annotated_ids = []\n",
    "with open(all_annotated_ids_fn, 'r') as f:\n",
    "  for line in f:\n",
    "    all_annotated_ids.append(line.strip())\n",
    "len(all_annotated_ids)"
   ]
  },
  {
   "cell_type": "code",
   "execution_count": 18,
   "metadata": {},
   "outputs": [
    {
     "data": {
      "text/plain": [
       "'##contig=<ID=22'"
      ]
     },
     "execution_count": 18,
     "metadata": {},
     "output_type": "execute_result"
    }
   ],
   "source": [
    "test = \"##contig=<ID=22>\"\n",
    "\n",
    "re.match('(^##contig.*ID=\\d+).*', test).group(1)"
   ]
  },
  {
   "cell_type": "code",
   "execution_count": 4,
   "metadata": {},
   "outputs": [
    {
     "data": {
      "text/plain": [
       "['0009b464-b376-4fbc-8a56-da538269a02f.consensus.20160830.somatic.snv_mnv.annotated.vcf',\n",
       " '005794f1-5a87-45b5-9811-83ddf6924568.consensus.20160830.somatic.snv_mnv.annotated.vcf',\n",
       " '00b9d0e6-69dc-4345-bffd-ce32880c8eef.consensus.20160830.somatic.snv_mnv.annotated.vcf',\n",
       " '00db1b95-8ca3-4cc4-bb46-6b8c8019a7c7.consensus.20160830.somatic.snv_mnv.annotated.vcf',\n",
       " '0168a2a6-c3af-4d58-a51c-d33f0fc7876d.consensus.20160830.somatic.snv_mnv.annotated.vcf']"
      ]
     },
     "execution_count": 4,
     "metadata": {},
     "output_type": "execute_result"
    }
   ],
   "source": [
    "all_annotated_ids[:5]"
   ]
  },
  {
   "cell_type": "markdown",
   "metadata": {},
   "source": [
    "#### Fix the contigs on all of the vcfs"
   ]
  },
  {
   "cell_type": "code",
   "execution_count": 25,
   "metadata": {},
   "outputs": [
    {
     "name": "stdout",
     "output_type": "stream",
     "text": [
      "##contig=<ID=1,length=249250621>\n",
      "##contig=<ID=2,length=243199373>\n",
      "##contig=<ID=3,length=198022430>\n",
      "##contig=<ID=4,length=191154276>\n",
      "##contig=<ID=5,length=180915260>\n",
      "##contig=<ID=6,length=171115067>\n",
      "##contig=<ID=7,length=159138663>\n",
      "##contig=<ID=8,length=146364022>\n",
      "##contig=<ID=9,length=141213431>\n",
      "##contig=<ID=10,length=135534747>\n",
      "##contig=<ID=11,length=135006516>\n",
      "##contig=<ID=12,length=133851895>\n",
      "##contig=<ID=13,length=115169878>\n",
      "##contig=<ID=14,length=107349540>\n",
      "##contig=<ID=15,length=102531392>\n",
      "##contig=<ID=16,length=90354753>\n",
      "##contig=<ID=17,length=81195210>\n",
      "##contig=<ID=18,length=78077248>\n",
      "##contig=<ID=19,length=59128983>\n",
      "##contig=<ID=20,length=63025520>\n",
      "##contig=<ID=21,length=48129895>\n",
      "##contig=<ID=22,length=51304566>\n",
      "##contig=<ID=X,length=155270560>\n",
      "##contig=<ID=Y,length=59373566>\n",
      "##contig=<ID=MT,length=16569>\n"
     ]
    }
   ],
   "source": [
    "contigs_dict = {}\n",
    "contig_pattern = '(^##contig.*ID=\\w+).*'\n",
    "with open(contigs, 'r') as f:\n",
    "  for line in f:\n",
    "    print(line.strip())\n",
    "    m = re.match(contig_pattern, line).group(1)\n",
    "    contigs_dict[m] = line"
   ]
  },
  {
   "cell_type": "code",
   "execution_count": 6,
   "metadata": {},
   "outputs": [
    {
     "data": {
      "text/plain": [
       "'0009b464-b376-4fbc-8a56-da538269a02f.consensus.20160830.somatic.snv_mnv.annotated.vcf'"
      ]
     },
     "execution_count": 6,
     "metadata": {},
     "output_type": "execute_result"
    }
   ],
   "source": [
    "all_annotated_ids[0]"
   ]
  },
  {
   "cell_type": "code",
   "execution_count": 30,
   "metadata": {},
   "outputs": [],
   "source": [
    "for fh in all_annotated_ids:\n",
    "  if os.path.exists(f'data/variants/snv_mnv/{fh}'):                                                                                                                                  \n",
    "    fh_dir = f'data/variants/snv_mnv/'\n",
    "  if os.path.exists(f'data/variants/indel/{fh}'):\n",
    "    fh_dir = f'data/variants/indel/'\n",
    "    \n",
    "  \n",
    "  with open(f'{fh_dir}{fh}', 'r') as fr, open(f'{fh_dir}tmp_{fh}', 'w') as fw:\n",
    "    for line in fr:\n",
    "      if not line.startswith(\"##contig\"):\n",
    "        fw.write(line)\n",
    "      else:\n",
    "        fw.write(contigs_dict[re.match(contig_pattern, line).group(1)])\n",
    "  # Overwrite -- only when you know it works\n",
    "  shutil.move(f'{fh_dir}tmp_{fh}', f'{fh_dir}{fh}')"
   ]
  },
  {
   "cell_type": "markdown",
   "metadata": {},
   "source": [
    "#### sample name regex"
   ]
  },
  {
   "cell_type": "code",
   "execution_count": 31,
   "metadata": {},
   "outputs": [
    {
     "name": "stdout",
     "output_type": "stream",
     "text": [
      "9837a56-7244-4846-a63d-266e6a92f168\n"
     ]
    }
   ],
   "source": [
    "test = \"9837a56-7244-4846-a63d-266e6a92f168.consensus.20161006.somatic.indel.annotated.vcf\"\n",
    "pattern = '(.*).consensus.*'\n",
    "m = re.match(pattern, test).group(1)\n",
    "print(m)"
   ]
  },
  {
   "cell_type": "code",
   "execution_count": null,
   "metadata": {},
   "outputs": [],
   "source": []
  }
 ],
 "metadata": {
  "kernelspec": {
   "display_name": "env",
   "language": "python",
   "name": "python3"
  },
  "language_info": {
   "codemirror_mode": {
    "name": "ipython",
    "version": 3
   },
   "file_extension": ".py",
   "mimetype": "text/x-python",
   "name": "python",
   "nbconvert_exporter": "python",
   "pygments_lexer": "ipython3",
   "version": "3.9.6"
  }
 },
 "nbformat": 4,
 "nbformat_minor": 2
}
