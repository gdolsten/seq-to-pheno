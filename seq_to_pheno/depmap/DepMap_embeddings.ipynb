{
 "cells": [
  {
   "cell_type": "code",
   "execution_count": 6,
   "id": "07242f37-6918-40f5-8e77-543437495a67",
   "metadata": {},
   "outputs": [
    {
     "data": {
      "application/vnd.jupyter.widget-view+json": {
       "model_id": "0268e33729d54e68bf91ed0be0694ca5",
       "version_major": 2,
       "version_minor": 0
      },
      "text/plain": [
       "VBox(children=(HTML(value='<center> <img\\nsrc=https://huggingface.co/front/assets/huggingface_logo-noborder.sv…"
      ]
     },
     "metadata": {},
     "output_type": "display_data"
    },
    {
     "name": "stdout",
     "output_type": "stream",
     "text": [
      "Loading CSV file...\n"
     ]
    },
    {
     "name": "stderr",
     "output_type": "stream",
     "text": [
      "/usr/local/lib/python3.10/dist-packages/esm/pretrained.py:68: FutureWarning: You are using `torch.load` with `weights_only=False` (the current default value), which uses the default pickle module implicitly. It is possible to construct malicious pickle data which will execute arbitrary code during unpickling (See https://github.com/pytorch/pytorch/blob/main/SECURITY.md#untrusted-models for more details). In a future release, the default value for `weights_only` will be flipped to `True`. This limits the functions that could be executed during unpickling. Arbitrary objects will no longer be allowed to be loaded via this mode unless they are explicitly allowlisted by the user via `torch.serialization.add_safe_globals`. We recommend you start setting `weights_only=True` for any use case where you don't have full control of the loaded file. Please open an issue on GitHub for any issues related to this experimental feature.\n",
      "  state_dict = torch.load(\n"
     ]
    },
    {
     "name": "stdout",
     "output_type": "stream",
     "text": [
      "Processing sequences...\n"
     ]
    },
    {
     "name": "stderr",
     "output_type": "stream",
     "text": [
      "Processing rows:   0%|          | 0/3 [00:00<?, ?it/s]"
     ]
    },
    {
     "name": "stdout",
     "output_type": "stream",
     "text": [
      "3897\n"
     ]
    },
    {
     "name": "stderr",
     "output_type": "stream",
     "text": [
      "Processing rows:  33%|███▎      | 1/3 [00:00<00:01,  1.79it/s]"
     ]
    },
    {
     "name": "stdout",
     "output_type": "stream",
     "text": [
      "Failed to process sequence: CUDA out of memory. Tried to allocate 14.50 GiB. GPU 0 has a total capacity of 79.10 GiB of which 8.49 GiB is free. Process 3688433 has 70.60 GiB memory in use. Of the allocated memory 53.60 GiB is allocated by PyTorch, and 16.34 GiB is reserved by PyTorch but unallocated. If reserved but unallocated memory is large try setting PYTORCH_CUDA_ALLOC_CONF=expandable_segments:True to avoid fragmentation.  See documentation for Memory Management  (https://pytorch.org/docs/stable/notes/cuda.html#environment-variables)\n",
      "3812\n"
     ]
    },
    {
     "name": "stderr",
     "output_type": "stream",
     "text": [
      "Processing rows:  67%|██████▋   | 2/3 [00:01<00:00,  1.45it/s]"
     ]
    },
    {
     "name": "stdout",
     "output_type": "stream",
     "text": [
      "Failed to process sequence: CUDA out of memory. Tried to allocate 13.87 GiB. GPU 0 has a total capacity of 79.10 GiB of which 10.99 GiB is free. Process 3688433 has 68.10 GiB memory in use. Of the allocated memory 51.41 GiB is allocated by PyTorch, and 16.03 GiB is reserved by PyTorch but unallocated. If reserved but unallocated memory is large try setting PYTORCH_CUDA_ALLOC_CONF=expandable_segments:True to avoid fragmentation.  See documentation for Memory Management  (https://pytorch.org/docs/stable/notes/cuda.html#environment-variables)\n",
      "3843\n"
     ]
    },
    {
     "name": "stderr",
     "output_type": "stream",
     "text": [
      "Processing rows: 100%|██████████| 3/3 [00:02<00:00,  1.44it/s]"
     ]
    },
    {
     "name": "stdout",
     "output_type": "stream",
     "text": [
      "Failed to process sequence: CUDA out of memory. Tried to allocate 14.10 GiB. GPU 0 has a total capacity of 79.10 GiB of which 10.08 GiB is free. Process 3688433 has 69.00 GiB memory in use. Of the allocated memory 52.20 GiB is allocated by PyTorch, and 16.14 GiB is reserved by PyTorch but unallocated. If reserved but unallocated memory is large try setting PYTORCH_CUDA_ALLOC_CONF=expandable_segments:True to avoid fragmentation.  See documentation for Memory Management  (https://pytorch.org/docs/stable/notes/cuda.html#environment-variables)\n",
      "Data with embeddings saved to 'OmicsSomaticMutations_split_4_failed_1.csv'\n",
      "Total rows: 3\n",
      "Successful embeddings: 0\n",
      "Failed embeddings: 3\n"
     ]
    },
    {
     "name": "stderr",
     "output_type": "stream",
     "text": [
      "\n"
     ]
    }
   ],
   "source": [
    "from esm.models.esm3 import ESM3\n",
    "from esm.sdk.api import ESMProtein, SamplingConfig\n",
    "from esm.utils.constants.models import ESM3_OPEN_SMALL\n",
    "import torch\n",
    "import pandas as pd\n",
    "import json\n",
    "from tqdm import tqdm\n",
    "from huggingface_hub import login\n",
    "\n",
    "# Log in to Hugging Face using your token\n",
    "login()\n",
    "\n",
    "# Load the CSV file\n",
    "print(\"Loading CSV file...\")\n",
    "df = pd.read_csv('OmicsSomaticMutations_split_4_failed.csv')\n",
    "\n",
    "# Initialize the model on both CPU and GPU\n",
    "# cpu_client = ESM3.from_pretrained(ESM3_OPEN_SMALL, device=torch.device(\"cpu\"))\n",
    "\n",
    "# def get_embedding(sequence):\n",
    "#     print(len(sequence))\n",
    "#     torch.cuda.empty_cache()\n",
    "#     protein = ESMProtein(sequence=sequence)\n",
    "#     protein_tensor = cpu_client.encode(protein)\n",
    "#     output = cpu_client.forward_and_sample(\n",
    "#         protein_tensor, SamplingConfig(return_mean_embedding=True)\n",
    "#     )\n",
    "#     whole_protein_embedding = output.mean_embedding\n",
    "#     embedding_list = whole_protein_embedding.tolist()\n",
    "#     embedding_string = \", \".join(f\"{value}\" for value in embedding_list)\n",
    "#     return embedding_string\n",
    "\n",
    "gpu_client = ESM3.from_pretrained(ESM3_OPEN_SMALL, device=torch.device(\"cuda\"))\n",
    "\n",
    "def get_embedding(sequence):\n",
    "    print(len(sequence))\n",
    "    if len(sequence) > 3900:\n",
    "        raise ValueError(f\"Sequence length ({len(sequence)}) exceeds maximum length of 3900\")\n",
    "    torch.cuda.empty_cache()\n",
    "    protein = ESMProtein(sequence=sequence)\n",
    "    protein_tensor = gpu_client.encode(protein)\n",
    "    with torch.no_grad():\n",
    "        output = gpu_client.forward_and_sample(\n",
    "            protein_tensor, SamplingConfig(return_mean_embedding=True)\n",
    "        )\n",
    "    whole_protein_embedding = output.mean_embedding \n",
    "    print(len(whole_protein_embedding))\n",
    "    embedding_list = whole_protein_embedding.tolist()\n",
    "    embedding_string = \", \".join(f\"{value}\" for value in embedding_list)\n",
    "    return embedding_string\n",
    "\n",
    "\n",
    "# Create a list for Embedding\n",
    "embedding_list = []\n",
    "\n",
    "# Process each row in the DataFrame\n",
    "print(\"Processing sequences...\")\n",
    "for _, row in tqdm(df.iterrows(), total=len(df), desc=\"Processing rows\"):\n",
    "    sequence = row['Sequence']\n",
    "    embedding = row['Embedding']\n",
    "    if embedding == embedding:\n",
    "        embedding_list.append(embedding)\n",
    "    else:\n",
    "        try:\n",
    "            embedding = get_embedding(sequence)\n",
    "            embedding_list.append(embedding)\n",
    "        except Exception as e:\n",
    "            print(f\"Failed to process sequence: {str(e)}\")\n",
    "            embedding_list.append(None)\n",
    "\n",
    "# Add the Embedding column to the DataFrame\n",
    "df['Embedding'] = embedding_list\n",
    "\n",
    "# Save the updated DataFrame to a new CSV file\n",
    "output_file = 'OmicsSomaticMutations_split_4_failed_1.csv'\n",
    "df.to_csv(output_file, index=False)\n",
    "print(f\"Data with embeddings saved to '{output_file}'\")\n",
    "\n",
    "# Print summary\n",
    "print(f\"Total rows: {len(df)}\")\n",
    "print(f\"Successful embeddings: {len([e for e in embedding_list if e is not None])}\")\n",
    "print(f\"Failed embeddings: {len([e for e in embedding_list if e is None])}\")"
   ]
  },
  {
   "cell_type": "code",
   "execution_count": 1,
   "id": "b9755221-b72d-43c2-bb4f-1517ee5473c1",
   "metadata": {},
   "outputs": [
    {
     "ename": "NameError",
     "evalue": "name 'embedding_list' is not defined",
     "output_type": "error",
     "traceback": [
      "\u001b[0;31m---------------------------------------------------------------------------\u001b[0m",
      "\u001b[0;31mNameError\u001b[0m                                 Traceback (most recent call last)",
      "Cell \u001b[0;32mIn[1], line 1\u001b[0m\n\u001b[0;32m----> 1\u001b[0m \u001b[38;5;28mprint\u001b[39m(\u001b[43membedding_list\u001b[49m[\u001b[38;5;241m1\u001b[39m])\n",
      "\u001b[0;31mNameError\u001b[0m: name 'embedding_list' is not defined"
     ]
    }
   ],
   "source": [
    "print(embedding_list[1])"
   ]
  },
  {
   "cell_type": "code",
   "execution_count": null,
   "id": "0ac7c90e-df23-4693-975b-4cf83f0c883a",
   "metadata": {},
   "outputs": [],
   "source": [
    "print(len(embedding))"
   ]
  },
  {
   "cell_type": "code",
   "execution_count": 4,
   "id": "52c83508-2036-470c-92e8-e432dfd576fe",
   "metadata": {},
   "outputs": [
    {
     "name": "stdout",
     "output_type": "stream",
     "text": [
      "Data with failed embeddings saved to 'OmicsSomaticMutations_split_4_failed.csv'\n"
     ]
    }
   ],
   "source": [
    "df_failed = df[df['Embedding'].isna()]\n",
    "\n",
    "# Save the updated DataFrame with successful embeddings to a new CSV file\n",
    "# output_file_success = 'OmicsSomaticMutations_split_4_success.csv'\n",
    "# df_success.to_csv(output_file_success, index=False)\n",
    "# print(f\"Data with successful embeddings saved to '{output_file_success}'\")\n",
    "\n",
    "# Save the DataFrame with failed embeddings to a separate CSV file\n",
    "output_file_failed = 'OmicsSomaticMutations_split_4_failed.csv'\n",
    "df_failed.to_csv(output_file_failed, index=False)\n",
    "print(f\"Data with failed embeddings saved to '{output_file_failed}'\")"
   ]
  },
  {
   "cell_type": "code",
   "execution_count": null,
   "id": "01f6581d-344f-4bfe-a607-7d26bfe69fca",
   "metadata": {},
   "outputs": [],
   "source": []
  }
 ],
 "metadata": {
  "kernelspec": {
   "display_name": "Python 3 (ipykernel)",
   "language": "python",
   "name": "python3"
  },
  "language_info": {
   "codemirror_mode": {
    "name": "ipython",
    "version": 3
   },
   "file_extension": ".py",
   "mimetype": "text/x-python",
   "name": "python",
   "nbconvert_exporter": "python",
   "pygments_lexer": "ipython3",
   "version": "3.10.12"
  }
 },
 "nbformat": 4,
 "nbformat_minor": 5
}
